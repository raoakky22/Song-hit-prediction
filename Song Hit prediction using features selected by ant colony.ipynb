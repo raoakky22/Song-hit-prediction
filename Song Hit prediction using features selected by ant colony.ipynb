{
 "cells": [
  {
   "cell_type": "code",
   "execution_count": 1,
   "metadata": {},
   "outputs": [],
   "source": [
    "import pandas as pd\n",
    "import numpy as np"
   ]
  },
  {
   "cell_type": "code",
   "execution_count": 2,
   "metadata": {},
   "outputs": [],
   "source": [
    "d1 = pd.read_csv('/Users/abhijeet/Documents/Song Hit Prediction/DataSet/song_dataset.csv')"
   ]
  },
  {
   "cell_type": "code",
   "execution_count": 3,
   "metadata": {},
   "outputs": [
    {
     "data": {
      "text/html": [
       "<div>\n",
       "<style scoped>\n",
       "    .dataframe tbody tr th:only-of-type {\n",
       "        vertical-align: middle;\n",
       "    }\n",
       "\n",
       "    .dataframe tbody tr th {\n",
       "        vertical-align: top;\n",
       "    }\n",
       "\n",
       "    .dataframe thead th {\n",
       "        text-align: right;\n",
       "    }\n",
       "</style>\n",
       "<table border=\"1\" class=\"dataframe\">\n",
       "  <thead>\n",
       "    <tr style=\"text-align: right;\">\n",
       "      <th></th>\n",
       "      <th>track</th>\n",
       "      <th>artist</th>\n",
       "      <th>uri</th>\n",
       "      <th>danceability</th>\n",
       "      <th>energy</th>\n",
       "      <th>key</th>\n",
       "      <th>loudness</th>\n",
       "      <th>mode</th>\n",
       "      <th>speechiness</th>\n",
       "      <th>acousticness</th>\n",
       "      <th>instrumentalness</th>\n",
       "      <th>liveness</th>\n",
       "      <th>valence</th>\n",
       "      <th>tempo</th>\n",
       "      <th>duration_ms</th>\n",
       "      <th>time_signature</th>\n",
       "      <th>chorus_hit</th>\n",
       "      <th>sections</th>\n",
       "      <th>target</th>\n",
       "    </tr>\n",
       "  </thead>\n",
       "  <tbody>\n",
       "    <tr>\n",
       "      <th>0</th>\n",
       "      <td>Wild Things</td>\n",
       "      <td>Alessia Cara</td>\n",
       "      <td>spotify:track:2ZyuwVvV6Z3XJaXIFbspeE</td>\n",
       "      <td>0.741</td>\n",
       "      <td>0.626</td>\n",
       "      <td>1</td>\n",
       "      <td>-4.826</td>\n",
       "      <td>0</td>\n",
       "      <td>0.0886</td>\n",
       "      <td>0.02000</td>\n",
       "      <td>0.000000</td>\n",
       "      <td>0.0828</td>\n",
       "      <td>0.7060</td>\n",
       "      <td>108.029</td>\n",
       "      <td>188493</td>\n",
       "      <td>4</td>\n",
       "      <td>41.18681</td>\n",
       "      <td>10</td>\n",
       "      <td>1</td>\n",
       "    </tr>\n",
       "    <tr>\n",
       "      <th>1</th>\n",
       "      <td>Surfboard</td>\n",
       "      <td>Esquivel!</td>\n",
       "      <td>spotify:track:61APOtq25SCMuK0V5w2Kgp</td>\n",
       "      <td>0.447</td>\n",
       "      <td>0.247</td>\n",
       "      <td>5</td>\n",
       "      <td>-14.661</td>\n",
       "      <td>0</td>\n",
       "      <td>0.0346</td>\n",
       "      <td>0.87100</td>\n",
       "      <td>0.814000</td>\n",
       "      <td>0.0946</td>\n",
       "      <td>0.2500</td>\n",
       "      <td>155.489</td>\n",
       "      <td>176880</td>\n",
       "      <td>3</td>\n",
       "      <td>33.18083</td>\n",
       "      <td>9</td>\n",
       "      <td>0</td>\n",
       "    </tr>\n",
       "    <tr>\n",
       "      <th>2</th>\n",
       "      <td>Love Someone</td>\n",
       "      <td>Lukas Graham</td>\n",
       "      <td>spotify:track:2JqnpexlO9dmvjUMCaLCLJ</td>\n",
       "      <td>0.550</td>\n",
       "      <td>0.415</td>\n",
       "      <td>9</td>\n",
       "      <td>-6.557</td>\n",
       "      <td>0</td>\n",
       "      <td>0.0520</td>\n",
       "      <td>0.16100</td>\n",
       "      <td>0.000000</td>\n",
       "      <td>0.1080</td>\n",
       "      <td>0.2740</td>\n",
       "      <td>172.065</td>\n",
       "      <td>205463</td>\n",
       "      <td>4</td>\n",
       "      <td>44.89147</td>\n",
       "      <td>9</td>\n",
       "      <td>1</td>\n",
       "    </tr>\n",
       "    <tr>\n",
       "      <th>3</th>\n",
       "      <td>Music To My Ears (feat. Tory Lanez)</td>\n",
       "      <td>Keys N Krates</td>\n",
       "      <td>spotify:track:0cjfLhk8WJ3etPTCseKXtk</td>\n",
       "      <td>0.502</td>\n",
       "      <td>0.648</td>\n",
       "      <td>0</td>\n",
       "      <td>-5.698</td>\n",
       "      <td>0</td>\n",
       "      <td>0.0527</td>\n",
       "      <td>0.00513</td>\n",
       "      <td>0.000000</td>\n",
       "      <td>0.2040</td>\n",
       "      <td>0.2910</td>\n",
       "      <td>91.837</td>\n",
       "      <td>193043</td>\n",
       "      <td>4</td>\n",
       "      <td>29.52521</td>\n",
       "      <td>7</td>\n",
       "      <td>0</td>\n",
       "    </tr>\n",
       "    <tr>\n",
       "      <th>4</th>\n",
       "      <td>Juju On That Beat (TZ Anthem)</td>\n",
       "      <td>Zay Hilfigerrr &amp; Zayion McCall</td>\n",
       "      <td>spotify:track:1lItf5ZXJc1by9SbPeljFd</td>\n",
       "      <td>0.807</td>\n",
       "      <td>0.887</td>\n",
       "      <td>1</td>\n",
       "      <td>-3.892</td>\n",
       "      <td>1</td>\n",
       "      <td>0.2750</td>\n",
       "      <td>0.00381</td>\n",
       "      <td>0.000000</td>\n",
       "      <td>0.3910</td>\n",
       "      <td>0.7800</td>\n",
       "      <td>160.517</td>\n",
       "      <td>144244</td>\n",
       "      <td>4</td>\n",
       "      <td>24.99199</td>\n",
       "      <td>8</td>\n",
       "      <td>1</td>\n",
       "    </tr>\n",
       "    <tr>\n",
       "      <th>...</th>\n",
       "      <td>...</td>\n",
       "      <td>...</td>\n",
       "      <td>...</td>\n",
       "      <td>...</td>\n",
       "      <td>...</td>\n",
       "      <td>...</td>\n",
       "      <td>...</td>\n",
       "      <td>...</td>\n",
       "      <td>...</td>\n",
       "      <td>...</td>\n",
       "      <td>...</td>\n",
       "      <td>...</td>\n",
       "      <td>...</td>\n",
       "      <td>...</td>\n",
       "      <td>...</td>\n",
       "      <td>...</td>\n",
       "      <td>...</td>\n",
       "      <td>...</td>\n",
       "      <td>...</td>\n",
       "    </tr>\n",
       "    <tr>\n",
       "      <th>6393</th>\n",
       "      <td>Lotus Flowers</td>\n",
       "      <td>Yolta</td>\n",
       "      <td>spotify:track:4t1TljQWJ6ZuoSY67zVvBI</td>\n",
       "      <td>0.172</td>\n",
       "      <td>0.358</td>\n",
       "      <td>9</td>\n",
       "      <td>-14.430</td>\n",
       "      <td>1</td>\n",
       "      <td>0.0342</td>\n",
       "      <td>0.88600</td>\n",
       "      <td>0.966000</td>\n",
       "      <td>0.3140</td>\n",
       "      <td>0.0361</td>\n",
       "      <td>72.272</td>\n",
       "      <td>150857</td>\n",
       "      <td>4</td>\n",
       "      <td>24.30824</td>\n",
       "      <td>7</td>\n",
       "      <td>0</td>\n",
       "    </tr>\n",
       "    <tr>\n",
       "      <th>6394</th>\n",
       "      <td>Calling My Spirit</td>\n",
       "      <td>Kodak Black</td>\n",
       "      <td>spotify:track:2MShy1GSSgbmGUxADNIao5</td>\n",
       "      <td>0.910</td>\n",
       "      <td>0.366</td>\n",
       "      <td>1</td>\n",
       "      <td>-9.954</td>\n",
       "      <td>1</td>\n",
       "      <td>0.0941</td>\n",
       "      <td>0.09960</td>\n",
       "      <td>0.000000</td>\n",
       "      <td>0.2610</td>\n",
       "      <td>0.7400</td>\n",
       "      <td>119.985</td>\n",
       "      <td>152000</td>\n",
       "      <td>4</td>\n",
       "      <td>32.53856</td>\n",
       "      <td>8</td>\n",
       "      <td>1</td>\n",
       "    </tr>\n",
       "    <tr>\n",
       "      <th>6395</th>\n",
       "      <td>Teenage Dream</td>\n",
       "      <td>Katy Perry</td>\n",
       "      <td>spotify:track:55qBw1900pZKfXJ6Q9A2Lc</td>\n",
       "      <td>0.719</td>\n",
       "      <td>0.804</td>\n",
       "      <td>10</td>\n",
       "      <td>-4.581</td>\n",
       "      <td>1</td>\n",
       "      <td>0.0355</td>\n",
       "      <td>0.01320</td>\n",
       "      <td>0.000003</td>\n",
       "      <td>0.1390</td>\n",
       "      <td>0.6050</td>\n",
       "      <td>119.999</td>\n",
       "      <td>227760</td>\n",
       "      <td>4</td>\n",
       "      <td>20.73371</td>\n",
       "      <td>7</td>\n",
       "      <td>1</td>\n",
       "    </tr>\n",
       "    <tr>\n",
       "      <th>6396</th>\n",
       "      <td>Stormy Weather</td>\n",
       "      <td>Oscar Peterson</td>\n",
       "      <td>spotify:track:4o9npmYHrOF1rUxxTVH8h4</td>\n",
       "      <td>0.600</td>\n",
       "      <td>0.177</td>\n",
       "      <td>7</td>\n",
       "      <td>-16.070</td>\n",
       "      <td>1</td>\n",
       "      <td>0.0561</td>\n",
       "      <td>0.98900</td>\n",
       "      <td>0.868000</td>\n",
       "      <td>0.1490</td>\n",
       "      <td>0.5600</td>\n",
       "      <td>120.030</td>\n",
       "      <td>213387</td>\n",
       "      <td>4</td>\n",
       "      <td>21.65301</td>\n",
       "      <td>14</td>\n",
       "      <td>0</td>\n",
       "    </tr>\n",
       "    <tr>\n",
       "      <th>6397</th>\n",
       "      <td>Dust</td>\n",
       "      <td>Hans Zimmer</td>\n",
       "      <td>spotify:track:2khIaVUkbMmDHB596lyMG3</td>\n",
       "      <td>0.121</td>\n",
       "      <td>0.123</td>\n",
       "      <td>4</td>\n",
       "      <td>-23.025</td>\n",
       "      <td>0</td>\n",
       "      <td>0.0443</td>\n",
       "      <td>0.96400</td>\n",
       "      <td>0.696000</td>\n",
       "      <td>0.1030</td>\n",
       "      <td>0.0297</td>\n",
       "      <td>95.182</td>\n",
       "      <td>341396</td>\n",
       "      <td>4</td>\n",
       "      <td>71.05343</td>\n",
       "      <td>15</td>\n",
       "      <td>0</td>\n",
       "    </tr>\n",
       "  </tbody>\n",
       "</table>\n",
       "<p>6398 rows × 19 columns</p>\n",
       "</div>"
      ],
      "text/plain": [
       "                                    track                          artist  \\\n",
       "0                             Wild Things                    Alessia Cara   \n",
       "1                               Surfboard                       Esquivel!   \n",
       "2                            Love Someone                    Lukas Graham   \n",
       "3     Music To My Ears (feat. Tory Lanez)                   Keys N Krates   \n",
       "4           Juju On That Beat (TZ Anthem)  Zay Hilfigerrr & Zayion McCall   \n",
       "...                                   ...                             ...   \n",
       "6393                        Lotus Flowers                           Yolta   \n",
       "6394                    Calling My Spirit                     Kodak Black   \n",
       "6395                        Teenage Dream                      Katy Perry   \n",
       "6396                       Stormy Weather                  Oscar Peterson   \n",
       "6397                                 Dust                     Hans Zimmer   \n",
       "\n",
       "                                       uri  danceability  energy  key  \\\n",
       "0     spotify:track:2ZyuwVvV6Z3XJaXIFbspeE         0.741   0.626    1   \n",
       "1     spotify:track:61APOtq25SCMuK0V5w2Kgp         0.447   0.247    5   \n",
       "2     spotify:track:2JqnpexlO9dmvjUMCaLCLJ         0.550   0.415    9   \n",
       "3     spotify:track:0cjfLhk8WJ3etPTCseKXtk         0.502   0.648    0   \n",
       "4     spotify:track:1lItf5ZXJc1by9SbPeljFd         0.807   0.887    1   \n",
       "...                                    ...           ...     ...  ...   \n",
       "6393  spotify:track:4t1TljQWJ6ZuoSY67zVvBI         0.172   0.358    9   \n",
       "6394  spotify:track:2MShy1GSSgbmGUxADNIao5         0.910   0.366    1   \n",
       "6395  spotify:track:55qBw1900pZKfXJ6Q9A2Lc         0.719   0.804   10   \n",
       "6396  spotify:track:4o9npmYHrOF1rUxxTVH8h4         0.600   0.177    7   \n",
       "6397  spotify:track:2khIaVUkbMmDHB596lyMG3         0.121   0.123    4   \n",
       "\n",
       "      loudness  mode  speechiness  acousticness  instrumentalness  liveness  \\\n",
       "0       -4.826     0       0.0886       0.02000          0.000000    0.0828   \n",
       "1      -14.661     0       0.0346       0.87100          0.814000    0.0946   \n",
       "2       -6.557     0       0.0520       0.16100          0.000000    0.1080   \n",
       "3       -5.698     0       0.0527       0.00513          0.000000    0.2040   \n",
       "4       -3.892     1       0.2750       0.00381          0.000000    0.3910   \n",
       "...        ...   ...          ...           ...               ...       ...   \n",
       "6393   -14.430     1       0.0342       0.88600          0.966000    0.3140   \n",
       "6394    -9.954     1       0.0941       0.09960          0.000000    0.2610   \n",
       "6395    -4.581     1       0.0355       0.01320          0.000003    0.1390   \n",
       "6396   -16.070     1       0.0561       0.98900          0.868000    0.1490   \n",
       "6397   -23.025     0       0.0443       0.96400          0.696000    0.1030   \n",
       "\n",
       "      valence    tempo  duration_ms  time_signature  chorus_hit  sections  \\\n",
       "0      0.7060  108.029       188493               4    41.18681        10   \n",
       "1      0.2500  155.489       176880               3    33.18083         9   \n",
       "2      0.2740  172.065       205463               4    44.89147         9   \n",
       "3      0.2910   91.837       193043               4    29.52521         7   \n",
       "4      0.7800  160.517       144244               4    24.99199         8   \n",
       "...       ...      ...          ...             ...         ...       ...   \n",
       "6393   0.0361   72.272       150857               4    24.30824         7   \n",
       "6394   0.7400  119.985       152000               4    32.53856         8   \n",
       "6395   0.6050  119.999       227760               4    20.73371         7   \n",
       "6396   0.5600  120.030       213387               4    21.65301        14   \n",
       "6397   0.0297   95.182       341396               4    71.05343        15   \n",
       "\n",
       "      target  \n",
       "0          1  \n",
       "1          0  \n",
       "2          1  \n",
       "3          0  \n",
       "4          1  \n",
       "...      ...  \n",
       "6393       0  \n",
       "6394       1  \n",
       "6395       1  \n",
       "6396       0  \n",
       "6397       0  \n",
       "\n",
       "[6398 rows x 19 columns]"
      ]
     },
     "execution_count": 3,
     "metadata": {},
     "output_type": "execute_result"
    }
   ],
   "source": [
    "d1"
   ]
  },
  {
   "cell_type": "code",
   "execution_count": 4,
   "metadata": {},
   "outputs": [],
   "source": [
    "y = d1['target']"
   ]
  },
  {
   "cell_type": "code",
   "execution_count": 5,
   "metadata": {},
   "outputs": [],
   "source": [
    "data = d1[['danceability','energy','key','loudness', 'mode', 'speechiness', 'acousticness' ,'instrumentalness','liveness', 'valence', 'tempo','duration_ms','time_signature','chorus_hit','sections']]"
   ]
  },
  {
   "cell_type": "code",
   "execution_count": 6,
   "metadata": {},
   "outputs": [
    {
     "data": {
      "text/html": [
       "<div>\n",
       "<style scoped>\n",
       "    .dataframe tbody tr th:only-of-type {\n",
       "        vertical-align: middle;\n",
       "    }\n",
       "\n",
       "    .dataframe tbody tr th {\n",
       "        vertical-align: top;\n",
       "    }\n",
       "\n",
       "    .dataframe thead th {\n",
       "        text-align: right;\n",
       "    }\n",
       "</style>\n",
       "<table border=\"1\" class=\"dataframe\">\n",
       "  <thead>\n",
       "    <tr style=\"text-align: right;\">\n",
       "      <th></th>\n",
       "      <th>danceability</th>\n",
       "      <th>energy</th>\n",
       "      <th>key</th>\n",
       "      <th>loudness</th>\n",
       "      <th>mode</th>\n",
       "      <th>speechiness</th>\n",
       "      <th>acousticness</th>\n",
       "      <th>instrumentalness</th>\n",
       "      <th>liveness</th>\n",
       "      <th>valence</th>\n",
       "      <th>tempo</th>\n",
       "      <th>duration_ms</th>\n",
       "      <th>time_signature</th>\n",
       "      <th>chorus_hit</th>\n",
       "      <th>sections</th>\n",
       "    </tr>\n",
       "  </thead>\n",
       "  <tbody>\n",
       "    <tr>\n",
       "      <th>0</th>\n",
       "      <td>0.741</td>\n",
       "      <td>0.626</td>\n",
       "      <td>1</td>\n",
       "      <td>-4.826</td>\n",
       "      <td>0</td>\n",
       "      <td>0.0886</td>\n",
       "      <td>0.02000</td>\n",
       "      <td>0.000000</td>\n",
       "      <td>0.0828</td>\n",
       "      <td>0.7060</td>\n",
       "      <td>108.029</td>\n",
       "      <td>188493</td>\n",
       "      <td>4</td>\n",
       "      <td>41.18681</td>\n",
       "      <td>10</td>\n",
       "    </tr>\n",
       "    <tr>\n",
       "      <th>1</th>\n",
       "      <td>0.447</td>\n",
       "      <td>0.247</td>\n",
       "      <td>5</td>\n",
       "      <td>-14.661</td>\n",
       "      <td>0</td>\n",
       "      <td>0.0346</td>\n",
       "      <td>0.87100</td>\n",
       "      <td>0.814000</td>\n",
       "      <td>0.0946</td>\n",
       "      <td>0.2500</td>\n",
       "      <td>155.489</td>\n",
       "      <td>176880</td>\n",
       "      <td>3</td>\n",
       "      <td>33.18083</td>\n",
       "      <td>9</td>\n",
       "    </tr>\n",
       "    <tr>\n",
       "      <th>2</th>\n",
       "      <td>0.550</td>\n",
       "      <td>0.415</td>\n",
       "      <td>9</td>\n",
       "      <td>-6.557</td>\n",
       "      <td>0</td>\n",
       "      <td>0.0520</td>\n",
       "      <td>0.16100</td>\n",
       "      <td>0.000000</td>\n",
       "      <td>0.1080</td>\n",
       "      <td>0.2740</td>\n",
       "      <td>172.065</td>\n",
       "      <td>205463</td>\n",
       "      <td>4</td>\n",
       "      <td>44.89147</td>\n",
       "      <td>9</td>\n",
       "    </tr>\n",
       "    <tr>\n",
       "      <th>3</th>\n",
       "      <td>0.502</td>\n",
       "      <td>0.648</td>\n",
       "      <td>0</td>\n",
       "      <td>-5.698</td>\n",
       "      <td>0</td>\n",
       "      <td>0.0527</td>\n",
       "      <td>0.00513</td>\n",
       "      <td>0.000000</td>\n",
       "      <td>0.2040</td>\n",
       "      <td>0.2910</td>\n",
       "      <td>91.837</td>\n",
       "      <td>193043</td>\n",
       "      <td>4</td>\n",
       "      <td>29.52521</td>\n",
       "      <td>7</td>\n",
       "    </tr>\n",
       "    <tr>\n",
       "      <th>4</th>\n",
       "      <td>0.807</td>\n",
       "      <td>0.887</td>\n",
       "      <td>1</td>\n",
       "      <td>-3.892</td>\n",
       "      <td>1</td>\n",
       "      <td>0.2750</td>\n",
       "      <td>0.00381</td>\n",
       "      <td>0.000000</td>\n",
       "      <td>0.3910</td>\n",
       "      <td>0.7800</td>\n",
       "      <td>160.517</td>\n",
       "      <td>144244</td>\n",
       "      <td>4</td>\n",
       "      <td>24.99199</td>\n",
       "      <td>8</td>\n",
       "    </tr>\n",
       "    <tr>\n",
       "      <th>...</th>\n",
       "      <td>...</td>\n",
       "      <td>...</td>\n",
       "      <td>...</td>\n",
       "      <td>...</td>\n",
       "      <td>...</td>\n",
       "      <td>...</td>\n",
       "      <td>...</td>\n",
       "      <td>...</td>\n",
       "      <td>...</td>\n",
       "      <td>...</td>\n",
       "      <td>...</td>\n",
       "      <td>...</td>\n",
       "      <td>...</td>\n",
       "      <td>...</td>\n",
       "      <td>...</td>\n",
       "    </tr>\n",
       "    <tr>\n",
       "      <th>6393</th>\n",
       "      <td>0.172</td>\n",
       "      <td>0.358</td>\n",
       "      <td>9</td>\n",
       "      <td>-14.430</td>\n",
       "      <td>1</td>\n",
       "      <td>0.0342</td>\n",
       "      <td>0.88600</td>\n",
       "      <td>0.966000</td>\n",
       "      <td>0.3140</td>\n",
       "      <td>0.0361</td>\n",
       "      <td>72.272</td>\n",
       "      <td>150857</td>\n",
       "      <td>4</td>\n",
       "      <td>24.30824</td>\n",
       "      <td>7</td>\n",
       "    </tr>\n",
       "    <tr>\n",
       "      <th>6394</th>\n",
       "      <td>0.910</td>\n",
       "      <td>0.366</td>\n",
       "      <td>1</td>\n",
       "      <td>-9.954</td>\n",
       "      <td>1</td>\n",
       "      <td>0.0941</td>\n",
       "      <td>0.09960</td>\n",
       "      <td>0.000000</td>\n",
       "      <td>0.2610</td>\n",
       "      <td>0.7400</td>\n",
       "      <td>119.985</td>\n",
       "      <td>152000</td>\n",
       "      <td>4</td>\n",
       "      <td>32.53856</td>\n",
       "      <td>8</td>\n",
       "    </tr>\n",
       "    <tr>\n",
       "      <th>6395</th>\n",
       "      <td>0.719</td>\n",
       "      <td>0.804</td>\n",
       "      <td>10</td>\n",
       "      <td>-4.581</td>\n",
       "      <td>1</td>\n",
       "      <td>0.0355</td>\n",
       "      <td>0.01320</td>\n",
       "      <td>0.000003</td>\n",
       "      <td>0.1390</td>\n",
       "      <td>0.6050</td>\n",
       "      <td>119.999</td>\n",
       "      <td>227760</td>\n",
       "      <td>4</td>\n",
       "      <td>20.73371</td>\n",
       "      <td>7</td>\n",
       "    </tr>\n",
       "    <tr>\n",
       "      <th>6396</th>\n",
       "      <td>0.600</td>\n",
       "      <td>0.177</td>\n",
       "      <td>7</td>\n",
       "      <td>-16.070</td>\n",
       "      <td>1</td>\n",
       "      <td>0.0561</td>\n",
       "      <td>0.98900</td>\n",
       "      <td>0.868000</td>\n",
       "      <td>0.1490</td>\n",
       "      <td>0.5600</td>\n",
       "      <td>120.030</td>\n",
       "      <td>213387</td>\n",
       "      <td>4</td>\n",
       "      <td>21.65301</td>\n",
       "      <td>14</td>\n",
       "    </tr>\n",
       "    <tr>\n",
       "      <th>6397</th>\n",
       "      <td>0.121</td>\n",
       "      <td>0.123</td>\n",
       "      <td>4</td>\n",
       "      <td>-23.025</td>\n",
       "      <td>0</td>\n",
       "      <td>0.0443</td>\n",
       "      <td>0.96400</td>\n",
       "      <td>0.696000</td>\n",
       "      <td>0.1030</td>\n",
       "      <td>0.0297</td>\n",
       "      <td>95.182</td>\n",
       "      <td>341396</td>\n",
       "      <td>4</td>\n",
       "      <td>71.05343</td>\n",
       "      <td>15</td>\n",
       "    </tr>\n",
       "  </tbody>\n",
       "</table>\n",
       "<p>6398 rows × 15 columns</p>\n",
       "</div>"
      ],
      "text/plain": [
       "      danceability  energy  key  loudness  mode  speechiness  acousticness  \\\n",
       "0            0.741   0.626    1    -4.826     0       0.0886       0.02000   \n",
       "1            0.447   0.247    5   -14.661     0       0.0346       0.87100   \n",
       "2            0.550   0.415    9    -6.557     0       0.0520       0.16100   \n",
       "3            0.502   0.648    0    -5.698     0       0.0527       0.00513   \n",
       "4            0.807   0.887    1    -3.892     1       0.2750       0.00381   \n",
       "...            ...     ...  ...       ...   ...          ...           ...   \n",
       "6393         0.172   0.358    9   -14.430     1       0.0342       0.88600   \n",
       "6394         0.910   0.366    1    -9.954     1       0.0941       0.09960   \n",
       "6395         0.719   0.804   10    -4.581     1       0.0355       0.01320   \n",
       "6396         0.600   0.177    7   -16.070     1       0.0561       0.98900   \n",
       "6397         0.121   0.123    4   -23.025     0       0.0443       0.96400   \n",
       "\n",
       "      instrumentalness  liveness  valence    tempo  duration_ms  \\\n",
       "0             0.000000    0.0828   0.7060  108.029       188493   \n",
       "1             0.814000    0.0946   0.2500  155.489       176880   \n",
       "2             0.000000    0.1080   0.2740  172.065       205463   \n",
       "3             0.000000    0.2040   0.2910   91.837       193043   \n",
       "4             0.000000    0.3910   0.7800  160.517       144244   \n",
       "...                ...       ...      ...      ...          ...   \n",
       "6393          0.966000    0.3140   0.0361   72.272       150857   \n",
       "6394          0.000000    0.2610   0.7400  119.985       152000   \n",
       "6395          0.000003    0.1390   0.6050  119.999       227760   \n",
       "6396          0.868000    0.1490   0.5600  120.030       213387   \n",
       "6397          0.696000    0.1030   0.0297   95.182       341396   \n",
       "\n",
       "      time_signature  chorus_hit  sections  \n",
       "0                  4    41.18681        10  \n",
       "1                  3    33.18083         9  \n",
       "2                  4    44.89147         9  \n",
       "3                  4    29.52521         7  \n",
       "4                  4    24.99199         8  \n",
       "...              ...         ...       ...  \n",
       "6393               4    24.30824         7  \n",
       "6394               4    32.53856         8  \n",
       "6395               4    20.73371         7  \n",
       "6396               4    21.65301        14  \n",
       "6397               4    71.05343        15  \n",
       "\n",
       "[6398 rows x 15 columns]"
      ]
     },
     "execution_count": 6,
     "metadata": {},
     "output_type": "execute_result"
    }
   ],
   "source": [
    "data"
   ]
  },
  {
   "cell_type": "code",
   "execution_count": 7,
   "metadata": {},
   "outputs": [],
   "source": [
    "# [1 1 0 1 0 0 1 1 0 1 0 0 1 0 1] 78 %\n",
    "#data = d1[['danceability','energy','loudness','acousticness' ,'instrumentalness', 'valence', 'time_signature','sections']]\n",
    "#[1, 1, 1, 1, 1, 1, 1, 1, 1, 0, 1, 0, 1, 0, 1], 79 %\n",
    "data = d1[['danceability','energy','key','loudness', 'mode', 'speechiness', 'acousticness' ,'instrumentalness','liveness',  'tempo','time_signature','sections']]\n",
    "# [1 1 0 1 0 0 1 1 0 1 0 1 1 0 0]  76%\n",
    "#data = d1[['danceability','energy','loudness','acousticness' ,'instrumentalness', 'valence', 'duration_ms','time_signature']]"
   ]
  },
  {
   "cell_type": "code",
   "execution_count": 8,
   "metadata": {},
   "outputs": [],
   "source": [
    "from sklearn.model_selection import train_test_split"
   ]
  },
  {
   "cell_type": "code",
   "execution_count": 24,
   "metadata": {},
   "outputs": [],
   "source": [
    "X_train,X_test,y_train,y_test=train_test_split(data,y,test_size=0.3)\n",
    "#X_train,X_test,y_train,y_test=train_test_split(data,y,test_size=0.33,random_state=42)"
   ]
  },
  {
   "cell_type": "code",
   "execution_count": 25,
   "metadata": {},
   "outputs": [],
   "source": [
    "from sklearn.preprocessing import MaxAbsScaler\n",
    "scalar = MaxAbsScaler()\n",
    "from sklearn.linear_model import LogisticRegression\n",
    "from sklearn.metrics import roc_auc_score\n",
    "from sklearn.metrics import accuracy_score\n",
    "from sklearn.ensemble import RandomForestClassifier"
   ]
  },
  {
   "cell_type": "code",
   "execution_count": 26,
   "metadata": {},
   "outputs": [],
   "source": [
    "X_train = scalar.fit_transform(X_train)\n",
    "X_test = scalar.fit_transform(X_test)"
   ]
  },
  {
   "cell_type": "code",
   "execution_count": 27,
   "metadata": {},
   "outputs": [
    {
     "data": {
      "text/plain": [
       "array([[0.43367347, 0.73446894, 0.81818182, ..., 0.55923158, 0.8       ,\n",
       "        0.2       ],\n",
       "       [0.5744898 , 0.91783567, 0.54545455, ..., 0.53204378, 0.8       ,\n",
       "        0.11111111],\n",
       "       [0.80816327, 0.76553106, 0.45454545, ..., 0.47393318, 0.8       ,\n",
       "        0.22222222],\n",
       "       ...,\n",
       "       [0.55612245, 1.        , 0.09090909, ..., 0.47490011, 0.8       ,\n",
       "        0.2       ],\n",
       "       [0.52755102, 0.94188377, 0.63636364, ..., 0.73556359, 0.8       ,\n",
       "        0.13333333],\n",
       "       [0.44489796, 0.38176353, 0.        , ..., 0.41786545, 0.8       ,\n",
       "        0.13333333]])"
      ]
     },
     "execution_count": 27,
     "metadata": {},
     "output_type": "execute_result"
    }
   ],
   "source": [
    "X_train"
   ]
  },
  {
   "cell_type": "code",
   "execution_count": 28,
   "metadata": {},
   "outputs": [],
   "source": [
    "lr = LogisticRegression()"
   ]
  },
  {
   "cell_type": "code",
   "execution_count": 29,
   "metadata": {},
   "outputs": [
    {
     "data": {
      "text/plain": [
       "0.8020833333333334"
      ]
     },
     "execution_count": 29,
     "metadata": {},
     "output_type": "execute_result"
    }
   ],
   "source": [
    "lr.fit(X_train,y_train)\n",
    "lr.score(X_test,y_test)"
   ]
  },
  {
   "cell_type": "code",
   "execution_count": 30,
   "metadata": {},
   "outputs": [],
   "source": [
    "from yellowbrick.classifier import ClassificationReport\n",
    "\n",
    "classes = [\"non-hit\", \"hit\"]"
   ]
  },
  {
   "cell_type": "code",
   "execution_count": 31,
   "metadata": {},
   "outputs": [],
   "source": [
    "from sklearn.svm import SVC\n",
    "from sklearn.svm import LinearSVC\n",
    "svm = SVC(kernel='rbf', random_state=0, gamma=.01, C=10)"
   ]
  },
  {
   "cell_type": "code",
   "execution_count": 32,
   "metadata": {},
   "outputs": [],
   "source": [
    "from sklearn.naive_bayes import GaussianNB\n",
    "gnb = GaussianNB()"
   ]
  },
  {
   "cell_type": "code",
   "execution_count": 33,
   "metadata": {},
   "outputs": [
    {
     "data": {
      "text/plain": [
       "0.7776041666666667"
      ]
     },
     "execution_count": 33,
     "metadata": {},
     "output_type": "execute_result"
    }
   ],
   "source": [
    "svm.fit(X_train,y_train)\n",
    "svm.score(X_test,y_test)"
   ]
  },
  {
   "cell_type": "code",
   "execution_count": 34,
   "metadata": {},
   "outputs": [
    {
     "data": {
      "text/plain": [
       "0.8114583333333333"
      ]
     },
     "execution_count": 34,
     "metadata": {},
     "output_type": "execute_result"
    }
   ],
   "source": [
    "svc = LinearSVC()\n",
    "svc.fit(X_train,y_train)\n",
    "svc.score(X_test,y_test)"
   ]
  },
  {
   "cell_type": "code",
   "execution_count": 49,
   "metadata": {},
   "outputs": [
    {
     "data": {
      "text/plain": [
       "0.7625"
      ]
     },
     "execution_count": 49,
     "metadata": {},
     "output_type": "execute_result"
    }
   ],
   "source": [
    "gnb.fit(X_train,y_train)\n",
    "gnb.score(X_test,y_test)"
   ]
  },
  {
   "cell_type": "code",
   "execution_count": 48,
   "metadata": {},
   "outputs": [
    {
     "data": {
      "text/plain": [
       "0.8182291666666667"
      ]
     },
     "execution_count": 48,
     "metadata": {},
     "output_type": "execute_result"
    }
   ],
   "source": [
    "rf.fit(X_train,y_train)\n",
    "rf.score(X_test,y_test)"
   ]
  },
  {
   "cell_type": "code",
   "execution_count": 47,
   "metadata": {},
   "outputs": [
    {
     "name": "stderr",
     "output_type": "stream",
     "text": [
      "/Users/abhijeet/opt/anaconda3/lib/python3.7/site-packages/sklearn/base.py:197: FutureWarning: From version 0.24, get_params will raise an AttributeError if a parameter cannot be retrieved as an instance attribute. Previously it would return None.\n",
      "  FutureWarning)\n"
     ]
    },
    {
     "data": {
      "image/png": "[encoded data removed]",
      "text/plain": [
       "<Figure size 576x396 with 2 Axes>"
      ]
     },
     "metadata": {},
     "output_type": "display_data"
    },
    {
     "data": {
      "text/plain": [
       "<matplotlib.axes._subplots.AxesSubplot at 0x7fae82946ad0>"
      ]
     },
     "execution_count": 47,
     "metadata": {},
     "output_type": "execute_result"
    }
   ],
   "source": [
    "visualizer = ClassificationReport(rf, classes=classes, support= False)\n",
    "\n",
    "visualizer.fit(X_train, y_train)  # Fit the visualizer and the model\n",
    "visualizer.score(X_test, y_test)  # Evaluate the model on the test data\n",
    "visualizer.show()  "
   ]
  },
  {
   "cell_type": "code",
   "execution_count": 37,
   "metadata": {},
   "outputs": [],
   "source": [
    "from yellowbrick.classifier import ROCAUC"
   ]
  },
  {
   "cell_type": "code",
   "execution_count": 38,
   "metadata": {},
   "outputs": [
    {
     "name": "stderr",
     "output_type": "stream",
     "text": [
      "/Users/abhijeet/opt/anaconda3/lib/python3.7/site-packages/sklearn/base.py:197: FutureWarning: From version 0.24, get_params will raise an AttributeError if a parameter cannot be retrieved as an instance attribute. Previously it would return None.\n",
      "  FutureWarning)\n"
     ]
    },
    {
     "data": {
      "image/png": "[encoded data removed]",
      "text/plain": [
       "<Figure size 576x396 with 1 Axes>"
      ]
     },
     "metadata": {},
     "output_type": "display_data"
    },
    {
     "data": {
      "text/plain": [
       "<matplotlib.axes._subplots.AxesSubplot at 0x7fae82654d50>"
      ]
     },
     "execution_count": 38,
     "metadata": {},
     "output_type": "execute_result"
    }
   ],
   "source": [
    "vw = ROCAUC(gnb, classes = classes)\n",
    "\n",
    "vw.fit(X_train, y_train)        # Fit the training data to the visualizer\n",
    "vw.score(X_test, y_test)        # Evaluate the model on the test data\n",
    "vw.show()                       # Finalize and show the figure\n"
   ]
  },
  {
   "cell_type": "code",
   "execution_count": 39,
   "metadata": {},
   "outputs": [],
   "source": [
    "from yellowbrick.classifier import ClassPredictionError"
   ]
  },
  {
   "cell_type": "code",
   "execution_count": 40,
   "metadata": {},
   "outputs": [
    {
     "name": "stderr",
     "output_type": "stream",
     "text": [
      "/Users/abhijeet/opt/anaconda3/lib/python3.7/site-packages/sklearn/base.py:197: FutureWarning: From version 0.24, get_params will raise an AttributeError if a parameter cannot be retrieved as an instance attribute. Previously it would return None.\n",
      "  FutureWarning)\n"
     ]
    },
    {
     "data": {
      "image/png": "[encoded data removed]",
      "text/plain": [
       "<Figure size 576x396 with 1 Axes>"
      ]
     },
     "metadata": {},
     "output_type": "display_data"
    },
    {
     "data": {
      "text/plain": [
       "<matplotlib.axes._subplots.AxesSubplot at 0x7fae82e6f890>"
      ]
     },
     "execution_count": 40,
     "metadata": {},
     "output_type": "execute_result"
    }
   ],
   "source": [
    "vww = ClassPredictionError(svc, classes = classes)\n",
    "\n",
    "# Fit the training data to the visualizer\n",
    "vww.fit(X_train, y_train)\n",
    "\n",
    "# Evaluate the model on the test data\n",
    "vww.score(X_test, y_test)\n",
    "\n",
    "# Draw visualization\n",
    "vww.show()"
   ]
  },
  {
   "cell_type": "code",
   "execution_count": 41,
   "metadata": {},
   "outputs": [],
   "source": [
    "from yellowbrick.classifier import PrecisionRecallCurve"
   ]
  },
  {
   "cell_type": "code",
   "execution_count": 46,
   "metadata": {},
   "outputs": [
    {
     "name": "stderr",
     "output_type": "stream",
     "text": [
      "/Users/abhijeet/opt/anaconda3/lib/python3.7/site-packages/sklearn/base.py:197: FutureWarning: From version 0.24, get_params will raise an AttributeError if a parameter cannot be retrieved as an instance attribute. Previously it would return None.\n",
      "  FutureWarning)\n"
     ]
    },
    {
     "data": {
      "image/png": "[encoded data removed]",
      "text/plain": [
       "<Figure size 576x396 with 1 Axes>"
      ]
     },
     "metadata": {},
     "output_type": "display_data"
    },
    {
     "data": {
      "text/plain": [
       "<matplotlib.axes._subplots.AxesSubplot at 0x7fae823c2a10>"
      ]
     },
     "execution_count": 46,
     "metadata": {},
     "output_type": "execute_result"
    }
   ],
   "source": [
    "viz = PrecisionRecallCurve(rf)\n",
    "viz.fit(X_train, y_train)\n",
    "viz.score(X_test, y_test)\n",
    "viz.show()"
   ]
  },
  {
   "cell_type": "code",
   "execution_count": 43,
   "metadata": {},
   "outputs": [
    {
     "data": {
      "text/plain": [
       "KNeighborsClassifier(algorithm='auto', leaf_size=30, metric='minkowski',\n",
       "                     metric_params=None, n_jobs=None, n_neighbors=3, p=2,\n",
       "                     weights='uniform')"
      ]
     },
     "execution_count": 43,
     "metadata": {},
     "output_type": "execute_result"
    }
   ],
   "source": [
    "from sklearn.neighbors import KNeighborsClassifier\n",
    "knn = KNeighborsClassifier(n_neighbors = 3, metric = 'minkowski', p = 2)\n",
    "knn.fit(X_train, y_train)"
   ]
  },
  {
   "cell_type": "code",
   "execution_count": 44,
   "metadata": {},
   "outputs": [
    {
     "data": {
      "text/plain": [
       "0.7567708333333333"
      ]
     },
     "execution_count": 44,
     "metadata": {},
     "output_type": "execute_result"
    }
   ],
   "source": [
    "y_pred = knn.predict(X_test)\n",
    "accuracy_score(y_test, y_pred)"
   ]
  },
  {
   "cell_type": "code",
   "execution_count": 45,
   "metadata": {},
   "outputs": [],
   "source": [
    "from sklearn.ensemble import RandomForestClassifier\n",
    "rf = RandomForestClassifier()"
   ]
  },
  {
   "cell_type": "code",
   "execution_count": null,
   "metadata": {},
   "outputs": [],
   "source": []
  },
  {
   "cell_type": "code",
   "execution_count": null,
   "metadata": {},
   "outputs": [],
   "source": []
  }
 ],
 "metadata": {
  "kernelspec": {
   "display_name": "Python 3",
   "language": "python",
   "name": "python3"
  },
  "language_info": {
   "codemirror_mode": {
    "name": "ipython",
    "version": 3
   },
   "file_extension": ".py",
   "mimetype": "text/x-python",
   "name": "python",
   "nbconvert_exporter": "python",
   "pygments_lexer": "ipython3",
   "version": "3.7.6"
  }
 },
 "nbformat": 4,
 "nbformat_minor": 4
}
